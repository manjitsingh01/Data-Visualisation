{
 "cells": [
  {
   "cell_type": "code",
   "execution_count": 16,
   "metadata": {},
   "outputs": [],
   "source": [
    "import pandas as pd\n",
    "import os\n",
    "\n",
    "file = input(\"File name: \")\n",
    "data = pd.read_excel(file)\n",
    "cont = True"
   ]
  },
  {
   "cell_type": "code",
   "execution_count": 17,
   "metadata": {},
   "outputs": [],
   "source": [
    "def output(df):\n",
    "    path = 'user_output'\n",
    "    if not os.path.exists(path):\n",
    "        os.makedirs(path)\n",
    "    if not df.empty:\n",
    "        file_name = input(\"file name: \")\n",
    "        df.to_excel(path + \"/\" + file_name)\n",
    "    return"
   ]
  },
  {
   "cell_type": "code",
   "execution_count": 18,
   "metadata": {},
   "outputs": [],
   "source": [
    "def family(df):\n",
    "    t = input('Type: ')\n",
    "    if (t=='PDC'):\n",
    "        df = pd.DataFrame(df.query('`Bit Family` == \"FCS\" or `Bit Family` == \"FCM\"'))\n",
    "    elif (t=='TCR'):\n",
    "        df = pd.DataFrame(df.query('`Bit Family` == \"RCT\" or `Bit Family` == \"RCI\"'))\n",
    "    else:\n",
    "        df = pd.DataFrame(df.query('`Bit Family` == @t'))\n",
    "    return df"
   ]
  },
  {
   "cell_type": "code",
   "execution_count": 19,
   "metadata": {},
   "outputs": [],
   "source": [
    "def size(df): \n",
    "    s = input(\"Size? \")\n",
    "    try:\n",
    "        s.split()\n",
    "        s = s.split()\n",
    "        s = [float(s[0]), float(s[1])]\n",
    "        df = df[df['Bit Size (in)'].isin(s)]\n",
    "    except IndexError:\n",
    "        s = float(s[0])\n",
    "        df = pd.DataFrame(df.query('`Bit Size (in)` == @s'))\n",
    "    #df = df[df['Bit Size (in)'].isin(s)]\n",
    "    #df = pd.DataFrame(df.query('`Bit Size (in)` == @s'))\n",
    "    return df"
   ]
  },
  {
   "cell_type": "code",
   "execution_count": 20,
   "metadata": {},
   "outputs": [],
   "source": [
    "def country(df):\n",
    "    df['Country'] = df['Country'].str.lower()\n",
    "    c = input(\"Which country or countries?\")\n",
    "    c = c.split()\n",
    "    df = df[df['Country'].str.contains('|'.join(c), na=False)]\n",
    "    #df = pd.DataFrame(df.query('Country == @c'))\n",
    "    return df"
   ]
  },
  {
   "cell_type": "code",
   "execution_count": 21,
   "metadata": {},
   "outputs": [],
   "source": [
    "def company(df):\n",
    "    df['Operator'] = df['Operator'].str.lower()\n",
    "    c = input(\"Which company or companies?\")\n",
    "    c = c.split()\n",
    "    df = df[df['Operator'].str.contains('|'.join(c), na=False)]\n",
    "    #df = pd.DataFrame(df.query('Operator == @c'))\n",
    "    return df"
   ]
  },
  {
   "cell_type": "code",
   "execution_count": 22,
   "metadata": {},
   "outputs": [],
   "source": [
    "def depth(df):\n",
    "    d1 = float(input(\"Lower limit?\"))\n",
    "    df = pd.DataFrame(df.query('`MD In (m)` >= @d1'))\n",
    "    d2 = float(input(\"Upper limit?\"))\n",
    "    if(d2!=''):\n",
    "        df = pd.DataFrame(df.query('`MD In (m)` <= @d2'))\n",
    "    return df"
   ]
  },
  {
   "cell_type": "code",
   "execution_count": 23,
   "metadata": {},
   "outputs": [],
   "source": [
    "def date(df):\n",
    "    df['Run Date'] = pd.to_datetime(df['Run Date'], utc=False)\n",
    "    s = input(\"Start Date:\")\n",
    "    s = pd.to_datetime(s, utc=False)\n",
    "    df = df[df['Run Date'] >= s]\n",
    "    e = input(\"End Date:\")\n",
    "    if(e!=''):\n",
    "        e = pd.to_datetime(e, utc=False)\n",
    "        df = df[df['Run Date'] <= e]\n",
    "    return df"
   ]
  },
  {
   "cell_type": "code",
   "execution_count": 24,
   "metadata": {},
   "outputs": [],
   "source": [
    "def best_five(col, df):\n",
    "    df = df.sort_values(by=col, ascending=False)\n",
    "    df = df.head(5)\n",
    "    return df"
   ]
  },
  {
   "cell_type": "code",
   "execution_count": 25,
   "metadata": {},
   "outputs": [],
   "source": [
    "def meterage(df):\n",
    "    name = [col for col in df.columns if 'Run Length' in col]\n",
    "    try:\n",
    "        name = name[0]\n",
    "        index = df.columns.get_loc(name)\n",
    "        #df['Serial Number'] = df['Serial Number'].fillna('blank')\n",
    "        df['cumm Meterage'] = df.groupby('Serial Number')[name].transform('cumsum')\n",
    "        column = df.pop('cumm Meterage')\n",
    "        df.insert(index+1, 'Cumm Meterage', column)\n",
    "    except KeyError:\n",
    "        print('\"Run Length\" column is missing or present with a different name')\n",
    "    return df"
   ]
  },
  {
   "cell_type": "code",
   "execution_count": 26,
   "metadata": {},
   "outputs": [],
   "source": [
    "def average(col, df):\n",
    "    df['Average ROP (m/hr)'] = df[col].mean()\n",
    "    return df"
   ]
  },
  {
   "cell_type": "code",
   "execution_count": 27,
   "metadata": {},
   "outputs": [],
   "source": [
    "def rop(df):\n",
    "    r = input(\"Value\")\n",
    "    col = 'ROP (m/hr)'\n",
    "    df = df[df['ROP (m/hr)']>=r]\n",
    "    print(\"Do you want to perform any other action on this column?\")\n",
    "    a = input(\"1. best_five \\n 2. average \\n 3. both\")\n",
    "    if(a=='1'):\n",
    "        df = best_five(col, df)\n",
    "    elif(a=='2'):\n",
    "        df = average(col, df)\n",
    "    elif(a=='3'):\n",
    "        df = best_five(col, df)\n",
    "        df = average(col, df)\n",
    "    return df"
   ]
  },
  {
   "cell_type": "code",
   "execution_count": 28,
   "metadata": {},
   "outputs": [],
   "source": [
    "def custom(df):\n",
    "    col = input(\"Which column do you wanna filter?\")\n",
    "    val = input(\"Value to be filtered?\")\n",
    "    try:\n",
    "        val.split()\n",
    "        s, e = val.split()\n",
    "    except ValueError:\n",
    "        s = val \n",
    "    try:\n",
    "        float(s)\n",
    "        num = True\n",
    "    except ValueError:\n",
    "        num = False\n",
    "    if(num==True):\n",
    "        s = float(s)\n",
    "        e = float(e)\n",
    "        df = pd.DataFrame(df.query('`{0}` >= @s'.format(col)))\n",
    "        df = pd.DataFrame(df.query('`{0}` <= @e'.format(col)))\n",
    "    else:\n",
    "        df = pd.DataFrame(df.query('`{0}` == @val'.format(col)))\n",
    "    return df"
   ]
  },
  {
   "cell_type": "code",
   "execution_count": 29,
   "metadata": {},
   "outputs": [],
   "source": [
    "def filters(df):\n",
    "    print(\"Which filter do you wanna use?\")\n",
    "    print(\"1. Size \\n2. Type \\n3. Country \\n4. Company \\n5. Depth \\n6. Date \\n7. Meterage \\n8. ROP \\n9. Custom\")\n",
    "    f = input(\"1. Size 2. Type 3. Country 4. Company 5.Depth 6. Date 7. Meterage 8. ROP 9. Custom\")\n",
    "    if(f=='1'):\n",
    "        df = size(df)\n",
    "    elif(f=='2'):\n",
    "        df = family(df)\n",
    "    elif(f=='3'):\n",
    "        df = country(df)\n",
    "    elif(f=='4'):\n",
    "        df = company(df)\n",
    "    elif(f=='5'):\n",
    "        df = depth(df)\n",
    "    elif(f=='6'):\n",
    "        df = date(df)\n",
    "    elif(f=='7'):\n",
    "        df = meterage(df)\n",
    "    elif(f=='8'):\n",
    "        df = rop(df)\n",
    "    elif(f=='9'):\n",
    "        df = custom(df)\n",
    "    return df    "
   ]
  },
  {
   "cell_type": "code",
   "execution_count": 30,
   "metadata": {},
   "outputs": [
    {
     "name": "stdout",
     "output_type": "stream",
     "text": [
      "What do you wanna do?\n",
      "1. Output \n",
      "2. Filter\n",
      "Which filter do you wanna use?\n",
      "1. Size \n",
      "2. Type \n",
      "3. Country \n",
      "4. Company \n",
      "5. Depth \n",
      "6. Date \n",
      "7. Meterage \n",
      "8. ROP \n",
      "9. Custom\n",
      "What do you wanna do?\n",
      "1. Output \n",
      "2. Filter\n"
     ]
    }
   ],
   "source": [
    "while(cont==True):    \n",
    "    print(\"What do you wanna do?\")\n",
    "    print(\"1. Output \\n2. Filter\")\n",
    "    a = input(\"1. Output \\n 2. Filter\")\n",
    "    if(a=='1'):\n",
    "        output(data)\n",
    "        cont=False\n",
    "    elif(a=='2'):\n",
    "        data=filters(data)"
   ]
  }
 ],
 "metadata": {
  "kernelspec": {
   "display_name": "base",
   "language": "python",
   "name": "python3"
  },
  "language_info": {
   "codemirror_mode": {
    "name": "ipython",
    "version": 3
   },
   "file_extension": ".py",
   "mimetype": "text/x-python",
   "name": "python",
   "nbconvert_exporter": "python",
   "pygments_lexer": "ipython3",
   "version": "3.10.9"
  },
  "orig_nbformat": 4
 },
 "nbformat": 4,
 "nbformat_minor": 2
}
